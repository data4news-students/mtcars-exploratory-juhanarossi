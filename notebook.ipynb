{
 "cells": [
  {
   "attachments": {},
   "cell_type": "markdown",
   "metadata": {},
   "source": [
    "# mtcars\n",
    "\n",
    "In this notebook, you'll explore the iconic `mtcars` dataset. Why mtcars? Because it is a classic pedagogical dataset and there is A LOT written about it online. Every complicated concept we encounter, you should be able to google the name plus `mtcars` and find some information about it. So for example, when we study linear regression, you'll be able to google \"linear regression mtcars\" and find a million billion tutorials that use this dataset to teach regressions. It will give us a common vocabulary with other learners around the world. "
   ]
  },
  {
   "attachments": {},
   "cell_type": "markdown",
   "metadata": {},
   "source": [
    "### Standard Python and R imports"
   ]
  },
  {
   "cell_type": "code",
   "execution_count": 1,
   "metadata": {},
   "outputs": [
    {
     "name": "stderr",
     "output_type": "stream",
     "text": [
      "c:\\Users\\Juhana\\scoop\\apps\\pyenv\\current\\pyenv-win\\versions\\3.11.0rc2\\Lib\\site-packages\\rpy2\\robjects\\packages.py:367: UserWarning: The symbol 'quartz' is not in this R namespace/package.\n",
      "  warnings.warn(\n"
     ]
    }
   ],
   "source": [
    "%load_ext rpy2.ipython\n",
    "%load_ext autoreload\n",
    "%autoreload 2\n",
    "\n",
    "%matplotlib inline  \n",
    "from matplotlib import rcParams\n",
    "rcParams['figure.figsize'] = (16, 100)\n",
    "\n",
    "import warnings\n",
    "from rpy2.rinterface import RRuntimeWarning\n",
    "warnings.filterwarnings(\"ignore\") # Ignore all warnings\n",
    "# warnings.filterwarnings(\"ignore\", category=RRuntimeWarning) # Show some warnings\n",
    "\n",
    "import pandas as pd\n",
    "import numpy as np\n",
    "import matplotlib.pyplot as plt\n",
    "from IPython.display import display, HTML"
   ]
  },
  {
   "cell_type": "code",
   "execution_count": 2,
   "metadata": {},
   "outputs": [
    {
     "data": {
      "application/javascript": "// Disable auto-scrolling\nIPython.OutputArea.prototype._should_scroll = function(lines) {\n    return false;\n}\n",
      "text/plain": [
       "<IPython.core.display.Javascript object>"
      ]
     },
     "metadata": {},
     "output_type": "display_data"
    }
   ],
   "source": [
    "%%javascript\n",
    "// Disable auto-scrolling\n",
    "IPython.OutputArea.prototype._should_scroll = function(lines) {\n",
    "    return false;\n",
    "}"
   ]
  },
  {
   "cell_type": "code",
   "execution_count": 5,
   "metadata": {},
   "outputs": [
    {
     "name": "stderr",
     "output_type": "stream",
     "text": [
      "R[write to console]: Loading required package: tidyverse\n",
      "\n"
     ]
    },
    {
     "name": "stdout",
     "output_type": "stream",
     "text": [
      "-- Attaching packages --------------------------------------- tidyverse 1.3.2 --\n",
      "v ggplot2 3.4.0      v purrr   1.0.1 \n",
      "v tibble  3.1.8      v dplyr   1.0.10\n",
      "v tidyr   1.2.1      v stringr 1.4.1 \n",
      "v readr   2.1.3      v forcats 0.5.2 \n",
      "-- Conflicts ------------------------------------------ tidyverse_conflicts() --\n",
      "x dplyr::filter() masks stats::filter()\n",
      "x dplyr::lag()    masks stats::lag()\n"
     ]
    }
   ],
   "source": [
    "%%R\n",
    "\n",
    "# My commonly used R imports\n",
    "\n",
    "require('tidyverse')"
   ]
  },
  {
   "cell_type": "code",
   "execution_count": 3,
   "metadata": {},
   "outputs": [
    {
     "data": {
      "text/html": [
       "<div>\n",
       "<style scoped>\n",
       "    .dataframe tbody tr th:only-of-type {\n",
       "        vertical-align: middle;\n",
       "    }\n",
       "\n",
       "    .dataframe tbody tr th {\n",
       "        vertical-align: top;\n",
       "    }\n",
       "\n",
       "    .dataframe thead th {\n",
       "        text-align: right;\n",
       "    }\n",
       "</style>\n",
       "<table border=\"1\" class=\"dataframe\">\n",
       "  <thead>\n",
       "    <tr style=\"text-align: right;\">\n",
       "      <th></th>\n",
       "      <th>A</th>\n",
       "      <th>B</th>\n",
       "    </tr>\n",
       "  </thead>\n",
       "  <tbody>\n",
       "    <tr>\n",
       "      <th>0</th>\n",
       "      <td>21</td>\n",
       "      <td>72</td>\n",
       "    </tr>\n",
       "    <tr>\n",
       "      <th>1</th>\n",
       "      <td>34</td>\n",
       "      <td>5</td>\n",
       "    </tr>\n",
       "    <tr>\n",
       "      <th>2</th>\n",
       "      <td>76</td>\n",
       "      <td>90</td>\n",
       "    </tr>\n",
       "    <tr>\n",
       "      <th>3</th>\n",
       "      <td>25</td>\n",
       "      <td>39</td>\n",
       "    </tr>\n",
       "    <tr>\n",
       "      <th>4</th>\n",
       "      <td>84</td>\n",
       "      <td>4</td>\n",
       "    </tr>\n",
       "  </tbody>\n",
       "</table>\n",
       "</div>"
      ],
      "text/plain": [
       "    A   B\n",
       "0  21  72\n",
       "1  34   5\n",
       "2  76  90\n",
       "3  25  39\n",
       "4  84   4"
      ]
     },
     "execution_count": 3,
     "metadata": {},
     "output_type": "execute_result"
    }
   ],
   "source": [
    "# EXAMPLE PYTHON CELL\n",
    "\n",
    "df = pd.DataFrame(\n",
    "    np.random.randint(0,100,size=(100, 2)), columns=list('AB'))\n",
    "df.head()"
   ]
  },
  {
   "cell_type": "code",
   "execution_count": 6,
   "metadata": {},
   "outputs": [
    {
     "data": {
      "image/png": "[encoded data removed]"
     },
     "metadata": {},
     "output_type": "display_data"
    }
   ],
   "source": [
    "%%R -i df\n",
    "\n",
    "# EXAMPLE R CELL\n",
    "df\n",
    "plt <- ggplot(df) +\n",
    "    geom_point(aes(A,B))\n",
    "\n",
    "plt"
   ]
  },
  {
   "attachments": {},
   "cell_type": "markdown",
   "metadata": {},
   "source": [
    "## Load the data"
   ]
  },
  {
   "cell_type": "code",
   "execution_count": 18,
   "metadata": {},
   "outputs": [
    {
     "name": "stdout",
     "output_type": "stream",
     "text": [
      "# A tibble: 10 x 12\n",
      "   name          mpg   cyl  disp    hp  drat    wt  qsec    vs    am  gear  carb\n",
      "   <chr>       <dbl> <dbl> <dbl> <dbl> <dbl> <dbl> <dbl> <dbl> <dbl> <dbl> <dbl>\n",
      " 1 Mazda RX4    21       6  160    110  3.9   2.62  16.5     0     1     4     4\n",
      " 2 Mazda RX4 ~  21       6  160    110  3.9   2.88  17.0     0     1     4     4\n",
      " 3 Datsun 710   22.8     4  108     93  3.85  2.32  18.6     1     1     4     1\n",
      " 4 Hornet 4 D~  21.4     6  258    110  3.08  3.22  19.4     1     0     3     1\n",
      " 5 Hornet Spo~  18.7     8  360    175  3.15  3.44  17.0     0     0     3     2\n",
      " 6 Valiant      18.1     6  225    105  2.76  3.46  20.2     1     0     3     1\n",
      " 7 Duster 360   14.3     8  360    245  3.21  3.57  15.8     0     0     3     4\n",
      " 8 Merc 240D    24.4     4  147.    62  3.69  3.19  20       1     0     4     2\n",
      " 9 Merc 230     22.8     4  141.    95  3.92  3.15  22.9     1     0     4     2\n",
      "10 Merc 280     19.2     6  168.   123  3.92  3.44  18.3     1     0     4     4\n"
     ]
    }
   ],
   "source": [
    "%%R\n",
    " \n",
    "# Import data with R\n",
    "mtcars <- read_csv('mtcars.csv', show_col_types = FALSE)\n",
    "mtcars %>% head(10)"
   ]
  },
  {
   "cell_type": "code",
   "execution_count": 8,
   "metadata": {},
   "outputs": [
    {
     "data": {
      "text/html": [
       "<div>\n",
       "<style scoped>\n",
       "    .dataframe tbody tr th:only-of-type {\n",
       "        vertical-align: middle;\n",
       "    }\n",
       "\n",
       "    .dataframe tbody tr th {\n",
       "        vertical-align: top;\n",
       "    }\n",
       "\n",
       "    .dataframe thead th {\n",
       "        text-align: right;\n",
       "    }\n",
       "</style>\n",
       "<table border=\"1\" class=\"dataframe\">\n",
       "  <thead>\n",
       "    <tr style=\"text-align: right;\">\n",
       "      <th></th>\n",
       "      <th>name</th>\n",
       "      <th>mpg</th>\n",
       "      <th>cyl</th>\n",
       "      <th>disp</th>\n",
       "      <th>hp</th>\n",
       "      <th>drat</th>\n",
       "      <th>wt</th>\n",
       "      <th>qsec</th>\n",
       "      <th>vs</th>\n",
       "      <th>am</th>\n",
       "      <th>gear</th>\n",
       "      <th>carb</th>\n",
       "    </tr>\n",
       "  </thead>\n",
       "  <tbody>\n",
       "    <tr>\n",
       "      <th>0</th>\n",
       "      <td>Mazda RX4</td>\n",
       "      <td>21.0</td>\n",
       "      <td>6</td>\n",
       "      <td>160.0</td>\n",
       "      <td>110</td>\n",
       "      <td>3.90</td>\n",
       "      <td>2.620</td>\n",
       "      <td>16.46</td>\n",
       "      <td>0</td>\n",
       "      <td>1</td>\n",
       "      <td>4</td>\n",
       "      <td>4</td>\n",
       "    </tr>\n",
       "    <tr>\n",
       "      <th>1</th>\n",
       "      <td>Mazda RX4 Wag</td>\n",
       "      <td>21.0</td>\n",
       "      <td>6</td>\n",
       "      <td>160.0</td>\n",
       "      <td>110</td>\n",
       "      <td>3.90</td>\n",
       "      <td>2.875</td>\n",
       "      <td>17.02</td>\n",
       "      <td>0</td>\n",
       "      <td>1</td>\n",
       "      <td>4</td>\n",
       "      <td>4</td>\n",
       "    </tr>\n",
       "    <tr>\n",
       "      <th>2</th>\n",
       "      <td>Datsun 710</td>\n",
       "      <td>22.8</td>\n",
       "      <td>4</td>\n",
       "      <td>108.0</td>\n",
       "      <td>93</td>\n",
       "      <td>3.85</td>\n",
       "      <td>2.320</td>\n",
       "      <td>18.61</td>\n",
       "      <td>1</td>\n",
       "      <td>1</td>\n",
       "      <td>4</td>\n",
       "      <td>1</td>\n",
       "    </tr>\n",
       "    <tr>\n",
       "      <th>3</th>\n",
       "      <td>Hornet 4 Drive</td>\n",
       "      <td>21.4</td>\n",
       "      <td>6</td>\n",
       "      <td>258.0</td>\n",
       "      <td>110</td>\n",
       "      <td>3.08</td>\n",
       "      <td>3.215</td>\n",
       "      <td>19.44</td>\n",
       "      <td>1</td>\n",
       "      <td>0</td>\n",
       "      <td>3</td>\n",
       "      <td>1</td>\n",
       "    </tr>\n",
       "    <tr>\n",
       "      <th>4</th>\n",
       "      <td>Hornet Sportabout</td>\n",
       "      <td>18.7</td>\n",
       "      <td>8</td>\n",
       "      <td>360.0</td>\n",
       "      <td>175</td>\n",
       "      <td>3.15</td>\n",
       "      <td>3.440</td>\n",
       "      <td>17.02</td>\n",
       "      <td>0</td>\n",
       "      <td>0</td>\n",
       "      <td>3</td>\n",
       "      <td>2</td>\n",
       "    </tr>\n",
       "  </tbody>\n",
       "</table>\n",
       "</div>"
      ],
      "text/plain": [
       "                name   mpg  cyl   disp   hp  drat     wt   qsec  vs  am  gear  \\\n",
       "0          Mazda RX4  21.0    6  160.0  110  3.90  2.620  16.46   0   1     4   \n",
       "1      Mazda RX4 Wag  21.0    6  160.0  110  3.90  2.875  17.02   0   1     4   \n",
       "2         Datsun 710  22.8    4  108.0   93  3.85  2.320  18.61   1   1     4   \n",
       "3     Hornet 4 Drive  21.4    6  258.0  110  3.08  3.215  19.44   1   0     3   \n",
       "4  Hornet Sportabout  18.7    8  360.0  175  3.15  3.440  17.02   0   0     3   \n",
       "\n",
       "   carb  \n",
       "0     4  \n",
       "1     4  \n",
       "2     1  \n",
       "3     1  \n",
       "4     2  "
      ]
     },
     "execution_count": 8,
     "metadata": {},
     "output_type": "execute_result"
    }
   ],
   "source": [
    "# Import data in python\n",
    "mtcars = pd.read_csv('mtcars.csv')\n",
    "mtcars.head()"
   ]
  },
  {
   "attachments": {},
   "cell_type": "markdown",
   "metadata": {},
   "source": [
    "# Exploratory data analysis\n",
    "\n",
    "So far we've done a lot of looking at distributions of single variables. In this dataset we have some continuous variables (like `mpg`, `disp`, `hp`, `drat`, `wt`, and `qsec`) and some discrete variables (like `vs`, `am`, `gear`, and `carb`). Let's quickly glance through the distributions of them.\n",
    "\n",
    "\n"
   ]
  },
  {
   "cell_type": "code",
   "execution_count": 13,
   "metadata": {},
   "outputs": [
    {
     "data": {
      "image/png": "[encoded data removed]"
     },
     "metadata": {},
     "output_type": "display_data"
    },
    {
     "data": {
      "image/png": "[encoded data removed]"
     },
     "metadata": {},
     "output_type": "display_data"
    }
   ],
   "source": [
    "%%R \n",
    "\n",
    "continuous_variables <- c('mpg', 'disp', 'hp', 'drat', 'wt', 'qsec')\n",
    "discrete_variables   <- c('vs', 'am', 'gear', 'carb')\n",
    "\n",
    "# Conevert to long format\n",
    "mtcars_long = mtcars %>% pivot_longer(!name, names_to = 'variable', values_to = 'value') \n",
    "\n",
    "# plot only continuous variables\n",
    "to_plot <- mtcars_long %>% filter(variable %in% continuous_variables)\n",
    "\n",
    "histogram_means <- to_plot %>%\n",
    "  group_by(variable) %>%\n",
    "  summarise(mean = mean(value))\n",
    "\n",
    "plot_continuous_histograms <- ggplot(to_plot) +\n",
    "    aes(x=value, fill=variable, group=variable) +\n",
    "    geom_histogram(bins=5) +\n",
    "    geom_vline(data=histogram_means, aes(xintercept=mean)) +\n",
    "    facet_wrap(~variable, scales='free') +\n",
    "    theme_minimal() +\n",
    "    labs(title = 'mtcars at a glance', subtitle='continuous variables (means marked with a vertical line)')\n",
    "\n",
    "\n",
    "plot_continuous_dotplot <- ggplot(to_plot) +\n",
    "    aes(x=value, y=1, color=variable) +\n",
    "    geom_point(size=4, alpha=.2) +\n",
    "    stat_summary(fun.y= mean, geom=\"point\", shape='x',\n",
    "                 size=10, color=\"black\", alpha=1, orientation='y') +\n",
    "    facet_wrap(~variable, scales='free', ncol=1) +\n",
    "    theme_minimal() +\n",
    "    labs(\n",
    "        title = 'mtcars at a glance', \n",
    "        subtitle='continuous variables (means marked with an X)'\n",
    "    ) +\n",
    "    theme(\n",
    "            axis.text.y=element_blank(),  #remove y axis labels\n",
    "            axis.ticks.y=element_blank(),  #remove y axis ticks\n",
    "            panel.grid.major.y = element_blank(), #remove y axis grid\n",
    "            panel.grid.minor.y = element_blank(), #remove y axis grid\n",
    "    )\n",
    "\n",
    "#plot_continuous\n",
    "\n",
    "# display both plots\n",
    "print(plot_continuous_histograms)\n",
    "print(plot_continuous_dotplot)"
   ]
  },
  {
   "cell_type": "code",
   "execution_count": 76,
   "metadata": {},
   "outputs": [
    {
     "data": {
      "image/png": "[encoded data removed]"
     },
     "metadata": {},
     "output_type": "display_data"
    }
   ],
   "source": [
    "%%R \n",
    "\n",
    "# plot only discrete variables\n",
    "to_plot <- mtcars_long %>% filter(variable %in% discrete_variables)\n",
    "\n",
    "plot_discrete <- ggplot(to_plot) +\n",
    "    aes(y=value, fill=variable) +\n",
    "    geom_bar() +\n",
    "    facet_wrap(~variable, scales='free') +\n",
    "    theme_minimal() +\n",
    "    labs(title = 'mtcars at a glance', subtitle='discrete variables')\n",
    "\n",
    "\n",
    "plot_discrete"
   ]
  },
  {
   "cell_type": "markdown",
   "metadata": {},
   "source": [
    "👉 What can we conclude about this dataset from the charts above?"
   ]
  },
  {
   "cell_type": "code",
   "execution_count": null,
   "metadata": {},
   "outputs": [],
   "source": [
    "# answer here"
   ]
  },
  {
   "cell_type": "markdown",
   "metadata": {},
   "source": [
    "👉 What can we not conclude about this dataset from the charts above?"
   ]
  },
  {
   "cell_type": "code",
   "execution_count": null,
   "metadata": {},
   "outputs": [],
   "source": [
    "# answer here"
   ]
  },
  {
   "cell_type": "markdown",
   "metadata": {},
   "source": [
    "👉 What further questions about this data do you have now? "
   ]
  },
  {
   "cell_type": "code",
   "execution_count": null,
   "metadata": {},
   "outputs": [],
   "source": [
    "# answer here"
   ]
  },
  {
   "attachments": {},
   "cell_type": "markdown",
   "metadata": {},
   "source": [
    "# Comparing variables to one another\n",
    "\n",
    "You're welcome to explore those univariate distributions more, but let's focus on something new. Comparing variables to one another. I'll start you off with a basic scatter plot.\n"
   ]
  },
  {
   "cell_type": "code",
   "execution_count": 27,
   "metadata": {},
   "outputs": [
    {
     "data": {
      "image/png": "[encoded data removed]"
     },
     "metadata": {},
     "output_type": "display_data"
    }
   ],
   "source": [
    "%%R\n",
    "\n",
    "ggplot(mtcars) +\n",
    "    aes(y=mpg, x=wt*1000) +\n",
    "    geom_point() +\n",
    "    labs(title = 'Greater Weight Typically Reduces Gas Mileage',\n",
    "            subtitle='discrete variables',\n",
    "            x = 'Weight (pounds)',\n",
    "            y = 'Fuel Economy (miles per gallon)')"
   ]
  },
  {
   "attachments": {},
   "cell_type": "markdown",
   "metadata": {},
   "source": [
    "# 👉 Try It\n",
    "\n",
    "1. Imporve the chart above. Add a title and subtitle, and better axis labels. Be **very careful** about the language you use in the headline. Assume you have a very strict copyeditor, make the language easy to understand but make sure you're not saying more than what the data proves.\n",
    "\n",
    "2. Answer the questions below:\n",
    "\n",
    "    a. What can we conclude about fuel efficiency and weight\n",
    "\n",
    "    b. What can't we conclude about fuel efficiency and weight\n",
    "\n",
    "    c. What further questions do you have about this data?"
   ]
  },
  {
   "attachments": {},
   "cell_type": "markdown",
   "metadata": {},
   "source": [
    "## Part 1 (Gudied Inquiry)\n",
    "# 👉 What makes cars more fuel efficient?\n"
   ]
  },
  {
   "cell_type": "code",
   "execution_count": 31,
   "metadata": {},
   "outputs": [
    {
     "data": {
      "image/png": "[encoded data removed]"
     },
     "metadata": {},
     "output_type": "display_data"
    }
   ],
   "source": [
    "%%R\n",
    "\n",
    "ggplot(mtcars) +\n",
    "    aes(y=mpg, x=carb) +\n",
    "    geom_point() +\n",
    "    labs(title = 'Cars with Fewer Carburetors Typically Get Better Gas Mileage',\n",
    "            subtitle='discrete variables',\n",
    "            x = 'number of carburetors',\n",
    "            y = 'Fuel Economy (miles per gallon)')"
   ]
  },
  {
   "cell_type": "code",
   "execution_count": null,
   "metadata": {},
   "outputs": [],
   "source": []
  },
  {
   "cell_type": "code",
   "execution_count": null,
   "metadata": {},
   "outputs": [],
   "source": []
  },
  {
   "cell_type": "code",
   "execution_count": null,
   "metadata": {},
   "outputs": [],
   "source": []
  },
  {
   "cell_type": "code",
   "execution_count": null,
   "metadata": {},
   "outputs": [],
   "source": []
  },
  {
   "cell_type": "code",
   "execution_count": null,
   "metadata": {},
   "outputs": [],
   "source": []
  },
  {
   "cell_type": "markdown",
   "metadata": {},
   "source": [
    "## Part 2 (freeform inquiry)\n",
    "Ask and try to answer your own questions about the dataset. Make at least two such charts below:\n"
   ]
  },
  {
   "cell_type": "markdown",
   "metadata": {},
   "source": [
    "# 👉 Question 1: TKTK\n",
    "\n",
    "(replace the text in this cell with your question)"
   ]
  },
  {
   "cell_type": "markdown",
   "metadata": {},
   "source": [
    "### 👉 Charts or summary statistics to help answer your question"
   ]
  },
  {
   "cell_type": "code",
   "execution_count": 23,
   "metadata": {},
   "outputs": [
    {
     "data": {
      "image/png": "[encoded data removed]"
     },
     "metadata": {},
     "output_type": "display_data"
    }
   ],
   "source": [
    "%%R \n",
    "\n",
    "# ggplot code here%%R\n",
    "\n",
    "boxplot(mpg~am, data=mtcars, main ='Fig. 1. Fuel Efficiency',\n",
    "        ylab='Miles per gallon',names=c(\"Automatic\",\"Manual\"),notch=FALSE, col=(c(\"gold\",\"skyblue\")))"
   ]
  },
  {
   "cell_type": "markdown",
   "metadata": {},
   "source": [
    "### 👉 Reflection\n",
    "\n",
    "a. What can we conclude?\n",
    "\n",
    "b. What can't we conclude?\n",
    "\n",
    "c. What further questions does this analysis raise?\n"
   ]
  }
 ],
 "metadata": {
  "kernelspec": {
   "display_name": "Python 3",
   "language": "python",
   "name": "python3"
  },
  "language_info": {
   "codemirror_mode": {
    "name": "ipython",
    "version": 3
   },
   "file_extension": ".py",
   "mimetype": "text/x-python",
   "name": "python",
   "nbconvert_exporter": "python",
   "pygments_lexer": "ipython3",
   "version": "3.11.0"
  },
  "vscode": {
   "interpreter": {
    "hash": "65de3514c2093d7cf2865236cc502463c1679e0aae214bc84fb04981ce66d59a"
   }
  }
 },
 "nbformat": 4,
 "nbformat_minor": 2
}
